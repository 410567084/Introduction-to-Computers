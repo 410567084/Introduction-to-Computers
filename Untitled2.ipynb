{
  "nbformat": 4,
  "nbformat_minor": 0,
  "metadata": {
    "colab": {
      "provenance": [],
      "authorship_tag": "ABX9TyO5hQ2Ygu4R5uknigzemG5x",
      "include_colab_link": true
    },
    "kernelspec": {
      "name": "python3",
      "display_name": "Python 3"
    },
    "language_info": {
      "name": "python"
    }
  },
  "cells": [
    {
      "cell_type": "markdown",
      "metadata": {
        "id": "view-in-github",
        "colab_type": "text"
      },
      "source": [
        "<a href=\"https://colab.research.google.com/github/410567084/Introduction-to-Computers/blob/main/Untitled2.ipynb\" target=\"_parent\"><img src=\"https://colab.research.google.com/assets/colab-badge.svg\" alt=\"Open In Colab\"/></a>"
      ]
    },
    {
      "cell_type": "code",
      "execution_count": 1,
      "metadata": {
        "colab": {
          "base_uri": "https://localhost:8080/"
        },
        "id": "m30uvg_EFWvK",
        "outputId": "725c1391-7383-4bf1-f656-8f5f63856d8f"
      },
      "outputs": [
        {
          "output_type": "stream",
          "name": "stdout",
          "text": [
            "請輸入溫度:37.5\n",
            "體溫過高!\n"
          ]
        }
      ],
      "source": [
        "temperature=input(\"請輸入溫度:\")\n",
        "if float(temperature) >= 37.5:\n",
        "  print(\"體溫過高!\")\n",
        "elif float(temperature) >= 37:\n",
        "  print(\"體溫略高!\")\n",
        "elif float(temperature) >= 34:\n",
        "  print(\"體溫正常!\")\n",
        "else:\n",
        "    print(\"體溫異常，請重新量測!\")"
      ]
    },
    {
      "cell_type": "code",
      "source": [
        "temperature=input(\"請輸入溫度:\")\n",
        "if float(temperature) >= 37.5:\n",
        "  print(\"體溫過高!\")\n",
        "elif float(temperature) >= 37:\n",
        "  print(\"體溫略高!\")\n",
        "elif float(temperature) >= 34:\n",
        "  print(\"體溫正常!\")\n",
        "else:\n",
        "    print(\"體溫異常，請重新量測!\")"
      ],
      "metadata": {
        "colab": {
          "base_uri": "https://localhost:8080/"
        },
        "id": "vQI79Ma7Fegt",
        "outputId": "cc097152-7891-43a6-c3ec-6f41c2798944"
      },
      "execution_count": 2,
      "outputs": [
        {
          "output_type": "stream",
          "name": "stdout",
          "text": [
            "請輸入溫度:36.9\n",
            "體溫正常!\n"
          ]
        }
      ]
    },
    {
      "cell_type": "code",
      "source": [
        "score=input(\"請輸入成績\")\n",
        "if int(score) >= 90:\n",
        "  print(\"A\")\n",
        "elif int(score) >= 80:\n",
        "  print(\"B\")\n",
        "elif int(score) >= 70:\n",
        "  print(\"C\")\n",
        "elif int(score) >=60:\n",
        "  print(\"D\")\n",
        "else:\n",
        "    print(\"F\")"
      ],
      "metadata": {
        "colab": {
          "base_uri": "https://localhost:8080/"
        },
        "id": "-GeIZy5uFk2t",
        "outputId": "def4ffc7-6983-4118-cd2b-e58e1e477684"
      },
      "execution_count": 3,
      "outputs": [
        {
          "output_type": "stream",
          "name": "stdout",
          "text": [
            "請輸入成績90\n",
            "A\n"
          ]
        }
      ]
    },
    {
      "cell_type": "code",
      "source": [
        "score=input(\"請輸入成績\")\n",
        "if int(score) >= 90:\n",
        "  print(\"A\")\n",
        "elif int(score) >= 80:\n",
        "  print(\"B\")\n",
        "elif int(score) >= 70:\n",
        "  print(\"C\")\n",
        "elif int(score) >=60:\n",
        "  print(\"D\")\n",
        "else:\n",
        "    print(\"F\")"
      ],
      "metadata": {
        "colab": {
          "base_uri": "https://localhost:8080/"
        },
        "id": "ZNgRHW4fFrAQ",
        "outputId": "bed586d3-d915-4039-d19a-53d6ce2f2145"
      },
      "execution_count": 4,
      "outputs": [
        {
          "output_type": "stream",
          "name": "stdout",
          "text": [
            "請輸入成績80\n",
            "B\n"
          ]
        }
      ]
    },
    {
      "cell_type": "code",
      "source": [
        "score=input(\"請輸入成績\")\n",
        "if int(score) >= 90:\n",
        "  print(\"A\")\n",
        "elif int(score) >= 80:\n",
        "  print(\"B\")\n",
        "elif int(score) >= 70:\n",
        "  print(\"C\")\n",
        "elif int(score) >=60:\n",
        "  print(\"D\")\n",
        "else:\n",
        "    print(\"F\")"
      ],
      "metadata": {
        "colab": {
          "base_uri": "https://localhost:8080/"
        },
        "id": "7YUCk1f5FvWM",
        "outputId": "1f94b51b-bc2b-40d0-f3e6-dfe2c6525042"
      },
      "execution_count": 5,
      "outputs": [
        {
          "output_type": "stream",
          "name": "stdout",
          "text": [
            "請輸入成績50\n",
            "F\n"
          ]
        }
      ]
    },
    {
      "cell_type": "code",
      "source": [
        "month=input(\"請輸入月份\")\n",
        "if int(month) >= 3 and int(month) <= 5:\n",
        "  print(\"是春天\")\n",
        "elif int(month) >= 6 and int(month) <= 8:\n",
        "  print(\"是夏天\")\n",
        "elif int(month) >= 9 and int(month) <= 11:\n",
        "  print(\"是秋天\")\n",
        "elif int(month) == 12 or int(month) <= 2:\n",
        "  print(\"是冬天\")\n",
        "else:\n",
        "    print(\"月份不在範圍內\")"
      ],
      "metadata": {
        "colab": {
          "base_uri": "https://localhost:8080/"
        },
        "id": "wrc0sClIFzPn",
        "outputId": "b23832a2-9988-4283-8828-504b0676d8fe"
      },
      "execution_count": 6,
      "outputs": [
        {
          "output_type": "stream",
          "name": "stdout",
          "text": [
            "請輸入月份3\n",
            "是春天\n"
          ]
        }
      ]
    },
    {
      "cell_type": "code",
      "source": [
        "month=input(\"請輸入月份\")\n",
        "if int(month) >= 3 and int(month) <= 5:\n",
        "  print(\"是春天\")\n",
        "elif int(month) >= 6 and int(month) <= 8:\n",
        "  print(\"是夏天\")\n",
        "elif int(month) >= 9 and int(month) <= 11:\n",
        "  print(\"是秋天\")\n",
        "elif int(month) == 12 or int(month) <= 2:\n",
        "  print(\"是冬天\")\n",
        "else:\n",
        "    print(\"月份不在範圍內\")"
      ],
      "metadata": {
        "colab": {
          "base_uri": "https://localhost:8080/"
        },
        "id": "lkxN-02MF26O",
        "outputId": "ce5aebaa-042a-41b3-ad20-dca64a882f4a"
      },
      "execution_count": 7,
      "outputs": [
        {
          "output_type": "stream",
          "name": "stdout",
          "text": [
            "請輸入月份8\n",
            "是夏天\n"
          ]
        }
      ]
    },
    {
      "cell_type": "code",
      "source": [],
      "metadata": {
        "id": "hBirqWNCF7Lq"
      },
      "execution_count": null,
      "outputs": []
    }
  ]
}