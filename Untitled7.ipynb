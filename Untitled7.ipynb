{
  "nbformat": 4,
  "nbformat_minor": 0,
  "metadata": {
    "colab": {
      "provenance": [],
      "authorship_tag": "ABX9TyM7FqcmokAmk04Ub2UUgkyR",
      "include_colab_link": true
    },
    "kernelspec": {
      "name": "python3",
      "display_name": "Python 3"
    },
    "language_info": {
      "name": "python"
    }
  },
  "cells": [
    {
      "cell_type": "markdown",
      "metadata": {
        "id": "view-in-github",
        "colab_type": "text"
      },
      "source": [
        "<a href=\"https://colab.research.google.com/github/410567084/Introduction-to-Computers/blob/main/Untitled7.ipynb\" target=\"_parent\"><img src=\"https://colab.research.google.com/assets/colab-badge.svg\" alt=\"Open In Colab\"/></a>"
      ]
    },
    {
      "cell_type": "code",
      "execution_count": 1,
      "metadata": {
        "colab": {
          "base_uri": "https://localhost:8080/"
        },
        "id": "doSAhixiTGw9",
        "outputId": "0f9d1f30-fcf5-43b0-e15d-546199ecbbc0"
      },
      "outputs": [
        {
          "name": "stdout",
          "output_type": "stream",
          "text": [
            "請輸入密碼: 1111\n"
          ]
        }
      ],
      "source": [
        "def verify_password():\n",
        "    correct_password = \"1234\"\n",
        "\n",
        "    password = input(\"請輸入密碼: \")\n",
        "\n",
        "    if password == correct_password:\n",
        "        print(\"歡迎光臨！\")\n",
        "\n",
        "verify_password()"
      ]
    },
    {
      "cell_type": "code",
      "source": [
        "def verify_password():\n",
        "    correct_password = \"1234\"\n",
        "\n",
        "    password = input(\"請輸入密碼: \")\n",
        "\n",
        "    if password == correct_password:\n",
        "        print(\"歡迎光臨！\")\n",
        "\n",
        "verify_password()"
      ],
      "metadata": {
        "colab": {
          "base_uri": "https://localhost:8080/"
        },
        "id": "0RssXmfDTKd9",
        "outputId": "054d3887-dd51-401f-ad75-32faa8f53b73"
      },
      "execution_count": 2,
      "outputs": [
        {
          "output_type": "stream",
          "name": "stdout",
          "text": [
            "請輸入密碼: 1234\n",
            "歡迎光臨！\n"
          ]
        }
      ]
    },
    {
      "cell_type": "code",
      "source": [
        "def verify_password():\n",
        "    correct_password = \"1234\"\n",
        "\n",
        "    password = input(\"請輸入密碼: \")\n",
        "\n",
        "    if password == correct_password:\n",
        "        print(\"歡迎光臨！\")\n",
        "    else:\n",
        "        print(\"密碼錯誤！\")\n",
        "\n",
        "verify_password()"
      ],
      "metadata": {
        "colab": {
          "base_uri": "https://localhost:8080/"
        },
        "id": "YkLw-zisTU1W",
        "outputId": "5092ab45-e465-43c5-8f58-0cf9ce961e14"
      },
      "execution_count": 3,
      "outputs": [
        {
          "output_type": "stream",
          "name": "stdout",
          "text": [
            "請輸入密碼: 1111\n",
            "密碼錯誤！\n"
          ]
        }
      ]
    },
    {
      "cell_type": "code",
      "source": [
        "def verify_password():\n",
        "    correct_password = \"1234\"\n",
        "\n",
        "    password = input(\"請輸入密碼: \")\n",
        "\n",
        "    if password == correct_password:\n",
        "        print(\"歡迎光臨！\")\n",
        "    else:\n",
        "        print(\"密碼錯誤！\")\n",
        "\n",
        "verify_password()"
      ],
      "metadata": {
        "colab": {
          "base_uri": "https://localhost:8080/"
        },
        "id": "f5Lw0XJDTY48",
        "outputId": "d63dcccf-0bf7-4a22-ac1d-dc0cb09c67fa"
      },
      "execution_count": 4,
      "outputs": [
        {
          "output_type": "stream",
          "name": "stdout",
          "text": [
            "請輸入密碼: 1234\n",
            "歡迎光臨！\n"
          ]
        }
      ]
    },
    {
      "cell_type": "code",
      "source": [
        "num = int(input(\"請輸入正整數: \"))\n",
        "\n",
        "if num >= 0:\n",
        "    if num % 2 == 0:\n",
        "        print(f\"{num}  為偶數!\")\n",
        "    else:\n",
        "        print(f\"{num}  為基數!\")\n",
        "else:\n",
        "    print(\"Input Error\")"
      ],
      "metadata": {
        "colab": {
          "base_uri": "https://localhost:8080/"
        },
        "id": "WPJOtFoWTcqM",
        "outputId": "36439f86-ffd9-4ce3-d84d-792f1d5f1afb"
      },
      "execution_count": 5,
      "outputs": [
        {
          "output_type": "stream",
          "name": "stdout",
          "text": [
            "請輸入正整數: 50\n",
            "50  為偶數!\n"
          ]
        }
      ]
    },
    {
      "cell_type": "code",
      "source": [
        "num = int(input(\"請輸入正整數: \"))\n",
        "\n",
        "if num >= 0:\n",
        "    if num % 2 == 0:\n",
        "        print(f\"{num}  為偶數!\")\n",
        "    else:\n",
        "        print(f\"{num}  為基數!\")\n",
        "else:\n",
        "    print(\"Input Error\")"
      ],
      "metadata": {
        "colab": {
          "base_uri": "https://localhost:8080/"
        },
        "id": "HbwnR_xRThEk",
        "outputId": "0f88c87f-ea1d-4cd2-c4c2-e6ada9c3d562"
      },
      "execution_count": 6,
      "outputs": [
        {
          "output_type": "stream",
          "name": "stdout",
          "text": [
            "請輸入正整數: 51\n",
            "51  為基數!\n"
          ]
        }
      ]
    },
    {
      "cell_type": "code",
      "source": [],
      "metadata": {
        "id": "vkIqeQygTk9M"
      },
      "execution_count": null,
      "outputs": []
    }
  ]
}