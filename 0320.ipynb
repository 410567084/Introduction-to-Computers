{
  "nbformat": 4,
  "nbformat_minor": 0,
  "metadata": {
    "colab": {
      "provenance": [],
      "authorship_tag": "ABX9TyM1O6toiwRNyQmTrnxWeuq3",
      "include_colab_link": true
    },
    "kernelspec": {
      "name": "python3",
      "display_name": "Python 3"
    },
    "language_info": {
      "name": "python"
    }
  },
  "cells": [
    {
      "cell_type": "markdown",
      "metadata": {
        "id": "view-in-github",
        "colab_type": "text"
      },
      "source": [
        "<a href=\"https://colab.research.google.com/github/410567084/Introduction-to-Computers/blob/main/0320.ipynb\" target=\"_parent\"><img src=\"https://colab.research.google.com/assets/colab-badge.svg\" alt=\"Open In Colab\"/></a>"
      ]
    },
    {
      "cell_type": "code",
      "execution_count": 1,
      "metadata": {
        "id": "fA3m7ZvyAdNm"
      },
      "outputs": [],
      "source": [
        "a=1"
      ]
    },
    {
      "cell_type": "code",
      "source": [
        "a"
      ],
      "metadata": {
        "colab": {
          "base_uri": "https://localhost:8080/"
        },
        "id": "shk1MrdzBNas",
        "outputId": "f14cbc58-cc0a-4df4-dba9-da90e38b282b"
      },
      "execution_count": 2,
      "outputs": [
        {
          "output_type": "execute_result",
          "data": {
            "text/plain": [
              "1"
            ]
          },
          "metadata": {},
          "execution_count": 2
        }
      ]
    },
    {
      "cell_type": "code",
      "source": [
        "b=input(\"請輸入一個數字\")"
      ],
      "metadata": {
        "colab": {
          "base_uri": "https://localhost:8080/"
        },
        "id": "5J-9L0q4BPy_",
        "outputId": "185db5d3-f418-4d06-c9f6-52d1286da182"
      },
      "execution_count": 4,
      "outputs": [
        {
          "name": "stdout",
          "output_type": "stream",
          "text": [
            "請輸入一個數字5\n"
          ]
        }
      ]
    },
    {
      "cell_type": "code",
      "source": [
        "test1=int(input(\"請輸入國文成績\"))\n",
        "test2=int(input(\"請輸入英文成績\"))\n",
        "test3=int(input(\"請輸入數學成績\"))\n",
        "print(\"你的成績總和\",int(test1+test2+test3))"
      ],
      "metadata": {
        "colab": {
          "base_uri": "https://localhost:8080/"
        },
        "id": "c5Ix0SrMBjhL",
        "outputId": "32c22b70-8b41-4f46-be83-92fac5f431b7"
      },
      "execution_count": 5,
      "outputs": [
        {
          "output_type": "stream",
          "name": "stdout",
          "text": [
            "請輸入國文成績50\n",
            "請輸入英文成績60\n",
            "請輸入數學成績70\n",
            "你的成績總和 180\n"
          ]
        }
      ]
    },
    {
      "cell_type": "code",
      "source": [
        "上底=int(input(\"請輸入梯形的上底長度\"))\n",
        "下底=int(input(\"請輸入梯形的下底長度\"))\n",
        "高=int(input(\"請輸入梯形的高度\"))\n",
        "area=(上底+下底)*高/2"
      ],
      "metadata": {
        "colab": {
          "base_uri": "https://localhost:8080/"
        },
        "id": "GBXMLSAuChJQ",
        "outputId": "07313e48-4826-4f24-9f47-7b413c56162b"
      },
      "execution_count": 8,
      "outputs": [
        {
          "name": "stdout",
          "output_type": "stream",
          "text": [
            "請輸入梯形的上底長度3\n",
            "請輸入梯形的下底長度4\n",
            "請輸入梯形的高度3\n"
          ]
        }
      ]
    },
    {
      "cell_type": "code",
      "source": [
        "print(\"上底長度為:%3d\"%上底,end='')\n",
        "print(\"下底長度為:%3d\"%下底,end='')\n",
        "print(\"高度為:%3d\"%高,end='')\n",
        "print(\"梯形面積為%3.1f\"%area)"
      ],
      "metadata": {
        "colab": {
          "base_uri": "https://localhost:8080/"
        },
        "id": "blygWIhKDVuI",
        "outputId": "2d1c8e2e-d0f4-4562-8330-123794108593"
      },
      "execution_count": 9,
      "outputs": [
        {
          "output_type": "stream",
          "name": "stdout",
          "text": [
            "上底長度為:  3下底長度為:  4高度為:  3梯形面積為10.5\n"
          ]
        }
      ]
    },
    {
      "cell_type": "code",
      "source": [
        "身高=int(input(\"請輸入你的身高\"))\n",
        "體重=int(input(\"請輸入你的體重\"))\n",
        "BMI=體重/(身高/100)**2\n",
        "print(BMI)"
      ],
      "metadata": {
        "colab": {
          "base_uri": "https://localhost:8080/"
        },
        "id": "HqHrSsRKEax-",
        "outputId": "20aaedc9-7afc-47f9-e842-4a5b3caf40c2"
      },
      "execution_count": 10,
      "outputs": [
        {
          "output_type": "stream",
          "name": "stdout",
          "text": [
            "請輸入你的身高180\n",
            "請輸入你的體重80\n",
            "24.691358024691358\n"
          ]
        }
      ]
    },
    {
      "cell_type": "code",
      "source": [],
      "metadata": {
        "id": "0ro5YGXcE0v3"
      },
      "execution_count": 10,
      "outputs": []
    }
  ]
}