{
  "nbformat": 4,
  "nbformat_minor": 0,
  "metadata": {
    "colab": {
      "provenance": [],
      "authorship_tag": "ABX9TyNbPKCyeTWyJWqi432NdIe/",
      "include_colab_link": true
    },
    "kernelspec": {
      "name": "python3",
      "display_name": "Python 3"
    },
    "language_info": {
      "name": "python"
    }
  },
  "cells": [
    {
      "cell_type": "markdown",
      "metadata": {
        "id": "view-in-github",
        "colab_type": "text"
      },
      "source": [
        "<a href=\"https://colab.research.google.com/github/410567084/Introduction-to-Computers/blob/main/0529.ipynb\" target=\"_parent\"><img src=\"https://colab.research.google.com/assets/colab-badge.svg\" alt=\"Open In Colab\"/></a>"
      ]
    },
    {
      "cell_type": "code",
      "execution_count": 1,
      "metadata": {
        "colab": {
          "base_uri": "https://localhost:8080/"
        },
        "id": "7v4NSn7sVdu7",
        "outputId": "ab601019-f005-436e-d51a-e2ae92114b34"
      },
      "outputs": [
        {
          "output_type": "stream",
          "name": "stdout",
          "text": [
            "請輸入一個正整數: 8\n",
            "生成的數列為:  [1, 2, 3, 4, 5, 6, 7, 8]\n"
          ]
        }
      ],
      "source": [
        "def generate_sequence():\n",
        "\n",
        "    num = int(input(\"請輸入一個正整數: \"))\n",
        "\n",
        "    sequence = list(range(1, num + 1))\n",
        "\n",
        "    print(\"生成的數列為: \", sequence)\n",
        "\n",
        "\n",
        "generate_sequence()"
      ]
    },
    {
      "cell_type": "markdown",
      "source": [],
      "metadata": {
        "id": "hueF2d_nVrJX"
      }
    },
    {
      "cell_type": "code",
      "source": [
        "def generate_sequence():\n",
        "\n",
        "    num = int(input(\"請輸入一個正整數: \"))\n",
        "\n",
        "    sequence = list(range(1, num + 1))\n",
        "\n",
        "    print(\"生成的數列為: \", sequence)\n",
        "\n",
        "\n",
        "generate_sequence()"
      ],
      "metadata": {
        "colab": {
          "base_uri": "https://localhost:8080/"
        },
        "id": "nIXs__roVfiy",
        "outputId": "37d6173c-ea67-4357-8a4f-14517ff07fa7"
      },
      "execution_count": 2,
      "outputs": [
        {
          "output_type": "stream",
          "name": "stdout",
          "text": [
            "請輸入一個正整數: 10\n",
            "生成的數列為:  [1, 2, 3, 4, 5, 6, 7, 8, 9, 10]\n"
          ]
        }
      ]
    },
    {
      "cell_type": "code",
      "source": [
        "def calculate_sum(n):\n",
        "    if n <= 0:\n",
        "        return \"Input should be a positive integer\"\n",
        "\n",
        "    total_sum = sum(range(1, n + 1))\n",
        "    return total_sum\n",
        "\n",
        "\n",
        "n = int(input(\"請輸入一個正整數: \"))\n",
        "\n",
        "result = calculate_sum(n)\n",
        "print(result)"
      ],
      "metadata": {
        "colab": {
          "base_uri": "https://localhost:8080/"
        },
        "id": "LP_I8lyLVnLU",
        "outputId": "e12afc0b-8171-4ce0-e0ce-5743cb320e04"
      },
      "execution_count": 3,
      "outputs": [
        {
          "output_type": "stream",
          "name": "stdout",
          "text": [
            "請輸入一個正整數: 13\n",
            "91\n"
          ]
        }
      ]
    },
    {
      "cell_type": "code",
      "source": [
        "def calculate_sum(n):\n",
        "    if n <= 0:\n",
        "        return \"Input should be a positive integer\"\n",
        "\n",
        "    total_sum = sum(range(1, n + 1))\n",
        "    return total_sum\n",
        "\n",
        "\n",
        "n = int(input(\"請輸入一個正整數: \"))\n",
        "\n",
        "result = calculate_sum(n)\n",
        "print(result)"
      ],
      "metadata": {
        "colab": {
          "base_uri": "https://localhost:8080/"
        },
        "id": "nRDEqQKJVtPY",
        "outputId": "4e0634e0-438a-4665-89a6-17a521e5ba7f"
      },
      "execution_count": 4,
      "outputs": [
        {
          "output_type": "stream",
          "name": "stdout",
          "text": [
            "請輸入一個正整數: 10\n",
            "55\n"
          ]
        }
      ]
    },
    {
      "cell_type": "code",
      "source": [
        "def generate_sum_sequence():\n",
        "\n",
        "    num = int(input(\"請輸入一個正整數: \"))\n",
        "\n",
        "    total_sum = 0\n",
        "\n",
        "    for i in range(1, num + 1):\n",
        "        total_sum += i\n",
        "        print(f\"從 1 加到 {i} 的累積和為: {total_sum}\")\n",
        "\n",
        "\n",
        "generate_sum_sequence()"
      ],
      "metadata": {
        "colab": {
          "base_uri": "https://localhost:8080/"
        },
        "id": "ugP0MG6jVxpz",
        "outputId": "2f2238da-af5e-4f30-87f6-72c5b1ecc29b"
      },
      "execution_count": 5,
      "outputs": [
        {
          "output_type": "stream",
          "name": "stdout",
          "text": [
            "請輸入一個正整數: 10\n",
            "從 1 加到 1 的累積和為: 1\n",
            "從 1 加到 2 的累積和為: 3\n",
            "從 1 加到 3 的累積和為: 6\n",
            "從 1 加到 4 的累積和為: 10\n",
            "從 1 加到 5 的累積和為: 15\n",
            "從 1 加到 6 的累積和為: 21\n",
            "從 1 加到 7 的累積和為: 28\n",
            "從 1 加到 8 的累積和為: 36\n",
            "從 1 加到 9 的累積和為: 45\n",
            "從 1 加到 10 的累積和為: 55\n"
          ]
        }
      ]
    },
    {
      "cell_type": "code",
      "source": [],
      "metadata": {
        "id": "FDqCUSxLV5eN"
      },
      "execution_count": null,
      "outputs": []
    }
  ]
}